{
 "cells": [
  {
   "cell_type": "markdown",
   "id": "bc50125a",
   "metadata": {},
   "source": [
    "# Data Science Tools and Ecosystem "
   ]
  },
  {
   "cell_type": "markdown",
   "id": "a42d4ae3",
   "metadata": {},
   "source": [
    "In this notebook, Data Science Tools and Ecosystem are summerised "
   ]
  },
  {
   "cell_type": "markdown",
   "id": "11af3ed1",
   "metadata": {},
   "source": [
    "Some of the popular languages that Data Scientists use are:\n",
    "1. Python\n",
    "2. R\n",
    "3. SQL\n",
    "4. C++\n",
    "5. Java\n",
    "6. Julia\n",
    "7. Ruby\n",
    "8. Go\n",
    "9. Visual Basic\n",
    "10. PHP\n",
    "11. Scala"
   ]
  },
  {
   "cell_type": "markdown",
   "id": "846edfce",
   "metadata": {},
   "source": [
    "Some of the commonly used libraries used by Data Scientists include:\n",
    " 1. Tensorflow \n",
    " 2. NumPy\n",
    " 3. SciPy\n",
    " 4. Pandas\n",
    " 5. Matplotlib\n",
    " 6. Keras\n",
    " 7. SciKitLearn\n",
    " 8. PyTorch etc\n",
    " 9. Seaborn\n",
    " 10. Apache Spark\n",
    " 11. Big Dl\n",
    " 12. Ggplot2\n",
    " "
   ]
  },
  {
   "cell_type": "markdown",
   "id": "a5455c18",
   "metadata": {},
   "source": [
    "|Data Science Tool|\n",
    "|---|\n",
    "|SAS|\n",
    "|Apache Hadoop|\n",
    "|TensorFlow| "
   ]
  },
  {
   "cell_type": "markdown",
   "id": "b069d811",
   "metadata": {},
   "source": [
    "# Below are a few examples of evaluating arithmetic expression in Python"
   ]
  },
  {
   "cell_type": "code",
   "execution_count": 3,
   "id": "e6d0e10a",
   "metadata": {},
   "outputs": [
    {
     "data": {
      "text/plain": [
       "17"
      ]
     },
     "execution_count": 3,
     "metadata": {},
     "output_type": "execute_result"
    }
   ],
   "source": [
    "#this is a common arithmetic examples to multiply and then add integers \n",
    "(2*5)+7"
   ]
  },
  {
   "cell_type": "code",
   "execution_count": 4,
   "id": "26245852",
   "metadata": {},
   "outputs": [
    {
     "data": {
      "text/plain": [
       "3.3333333333333335"
      ]
     },
     "execution_count": 4,
     "metadata": {},
     "output_type": "execute_result"
    }
   ],
   "source": [
    "#this will convert 200 mintues to hours by dividing by 60\n",
    "200/60"
   ]
  },
  {
   "cell_type": "markdown",
   "id": "7beed48a",
   "metadata": {},
   "source": [
    "__Objectives__\n",
    "* List popular languages of Data Science \n",
    "* List popular libraries of Data Science\n",
    "* List of well known Data Science Tools \n",
    "* How to provide comments in the cell "
   ]
  },
  {
   "cell_type": "markdown",
   "id": "89de84fe",
   "metadata": {},
   "source": [
    "## Author \n",
    "Suhana Bagwan"
   ]
  },
  {
   "cell_type": "code",
   "execution_count": null,
   "id": "ca4719eb",
   "metadata": {},
   "outputs": [],
   "source": []
  }
 ],
 "metadata": {
  "kernelspec": {
   "display_name": "Python 3",
   "language": "python",
   "name": "python3"
  },
  "language_info": {
   "codemirror_mode": {
    "name": "ipython",
    "version": 3
   },
   "file_extension": ".py",
   "mimetype": "text/x-python",
   "name": "python",
   "nbconvert_exporter": "python",
   "pygments_lexer": "ipython3",
   "version": "3.8.8"
  }
 },
 "nbformat": 4,
 "nbformat_minor": 5
}
